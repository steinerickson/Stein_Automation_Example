{
 "cells": [
  {
   "cell_type": "code",
   "execution_count": 160,
   "metadata": {},
   "outputs": [],
   "source": [
    "# Amazon Repatriation Automation\n",
    "## Jamie needs to concatenate sales data received from markets into one excel file\n",
    "#### Concatenate ICLA and Classical Sheet into one excel\n",
    "##### Jamie needs to send over Cost Feed from Amazon, Concatenated Sales Feed from markets, ICLA exceptions / Classical Sheet and International Catalogue\n",
    "### remove all currency symbols from cost data\n",
    "###### create dashboard from the data"
   ]
  },
  {
   "cell_type": "code",
   "execution_count": 3,
   "metadata": {},
   "outputs": [],
   "source": [
    "#importing libraries\n",
    "\n",
    "import pandas as pd\n",
    "import numpy as np\n",
    "from pandas import Series,DataFrame\n",
    "from google.cloud import bigquery\n"
   ]
  },
  {
   "cell_type": "code",
   "execution_count": 4,
   "metadata": {},
   "outputs": [],
   "source": [
    "#importing sales data\n",
    "\n",
    "sales = pd.read_excel('G:\\Amazon Repatriation May 2020\\Amazon Repat - Amazon Data April 2.xlsx', dtype={'ean': str})"
   ]
  },
  {
   "cell_type": "code",
   "execution_count": 163,
   "metadata": {},
   "outputs": [],
   "source": [
    "#importing cost data\n",
    "\n",
    "costs = pd.read_excel(\"G:\\Amazon Repatriation May 2020\\Copy of Amazon Cost Feed Combined - April 2.xlsx\", dtype={'UPC': str })"
   ]
  },
  {
   "cell_type": "code",
   "execution_count": 164,
   "metadata": {},
   "outputs": [],
   "source": [
    "cols = ['UPC', 'Region']\n",
    "costs[cols] = costs[cols].apply(lambda x: x.str.strip())"
   ]
  },
  {
   "cell_type": "code",
   "execution_count": 165,
   "metadata": {},
   "outputs": [],
   "source": [
    "### reduce table size \n",
    "costs2 = costs[['Region','UPC','Transfer Price','Dealer Price','Net Unit Price','Currency ']]"
   ]
  },
  {
   "cell_type": "code",
   "execution_count": 167,
   "metadata": {},
   "outputs": [
    {
     "data": {
      "text/plain": [
       "(62380, 6)"
      ]
     },
     "execution_count": 167,
     "metadata": {},
     "output_type": "execute_result"
    }
   ],
   "source": [
    "### amount of rows in cost data\n",
    "costs2.shape"
   ]
  },
  {
   "cell_type": "code",
   "execution_count": 168,
   "metadata": {},
   "outputs": [],
   "source": [
    "#keeping any rows with Transfer Price below .30 euros\n",
    "costs3 = costs2[costs2['Transfer Price'] >= .3] "
   ]
  },
  {
   "cell_type": "code",
   "execution_count": 169,
   "metadata": {},
   "outputs": [
    {
     "data": {
      "text/plain": [
       "(61425, 6)"
      ]
     },
     "execution_count": 169,
     "metadata": {},
     "output_type": "execute_result"
    }
   ],
   "source": [
    "### amount of rows in cost data\n",
    "costs3.shape"
   ]
  },
  {
   "cell_type": "code",
   "execution_count": 170,
   "metadata": {},
   "outputs": [
    {
     "data": {
      "text/plain": [
       "7098"
      ]
     },
     "execution_count": 170,
     "metadata": {},
     "output_type": "execute_result"
    }
   ],
   "source": [
    "###check for duplicates rows\n",
    "sum(costs3.duplicated())"
   ]
  },
  {
   "cell_type": "code",
   "execution_count": 171,
   "metadata": {},
   "outputs": [],
   "source": [
    "##drop duplicates\n",
    "costs4 = costs3.drop_duplicates(ignore_index = True)"
   ]
  },
  {
   "cell_type": "code",
   "execution_count": 172,
   "metadata": {},
   "outputs": [
    {
     "data": {
      "text/plain": [
       "0"
      ]
     },
     "execution_count": 172,
     "metadata": {},
     "output_type": "execute_result"
    }
   ],
   "source": [
    "###check for duplicates rows\n",
    "sum(costs4.duplicated())"
   ]
  },
  {
   "cell_type": "code",
   "execution_count": 176,
   "metadata": {},
   "outputs": [],
   "source": [
    "cols1 = ['inventory_owner_group', 'vendor_group','ean']\n",
    "sales[cols1] = sales[cols1].apply(lambda x: x.str.strip())"
   ]
  },
  {
   "cell_type": "code",
   "execution_count": 177,
   "metadata": {},
   "outputs": [
    {
     "data": {
      "text/plain": [
       "(335395, 10)"
      ]
     },
     "execution_count": 177,
     "metadata": {},
     "output_type": "execute_result"
    }
   ],
   "source": [
    "sales.shape"
   ]
  },
  {
   "cell_type": "code",
   "execution_count": 178,
   "metadata": {},
   "outputs": [],
   "source": [
    "#concatenating inventrory owner groups, vendor groups for streamlined data\n",
    "\n",
    "sales.loc[sales['inventory_owner_group'] == 'UK', 'inventory_owner_group_combined'] = 'UK'\n",
    "sales.loc[sales['inventory_owner_group'] == 'www.amazon.co.uk', 'inventory_owner_group_combined'] = 'UK'\n",
    "sales.loc[sales['inventory_owner_group'] == 'DE', 'inventory_owner_group_combined'] = 'DE'\n",
    "sales.loc[sales['inventory_owner_group'] == 'www.amazon.de', 'inventory_owner_group_combined'] = 'DE'\n",
    "sales.loc[sales['inventory_owner_group'] == 'IT', 'inventory_owner_group_combined'] = 'IT'\n",
    "sales.loc[sales['inventory_owner_group'] == 'www.amazon.it', 'inventory_owner_group_combined'] = 'IT'\n",
    "sales.loc[sales['inventory_owner_group'] == 'FR', 'inventory_owner_group_combined'] = 'FR'\n",
    "sales.loc[sales['inventory_owner_group'] == 'www.amazon.fr', 'inventory_owner_group_combined'] = 'FR'\n",
    "sales.loc[sales['inventory_owner_group'] == 'ES', 'inventory_owner_group_combined'] = 'ES'\n",
    "sales.loc[sales['inventory_owner_group'] == 'www.amazon.es', 'inventory_owner_group_combined'] = 'ES'\n",
    "sales.loc[sales['inventory_owner_group'] == 'Pan-EU SCO', 'inventory_owner_group_combined'] = 'Pan-EU SCO'\n",
    "sales.loc[sales['vendor_group'] == 'UMG UK', 'vendor_group2'] = 'UK'\n",
    "sales.loc[sales['vendor_group'] == 'UMG DE', 'vendor_group2'] = 'DE'\n",
    "sales.loc[sales['vendor_group'] == 'UMG FR', 'vendor_group2'] = 'FR'\n",
    "sales.loc[sales['vendor_group'] == 'UMG IT', 'vendor_group2']  ='IT'\n",
    "sales.loc[sales['vendor_group'] == 'UMG ES', 'vendor_group2'] ='ES'\n",
    "sales.loc[sales['vendor_group'] == 'UMG AT', 'vendor_group2'] ='AT'\n",
    "sales.loc[sales['vendor_group'] == '3rd Party', 'vendor_group2'] = '3rd Party'"
   ]
  },
  {
   "cell_type": "code",
   "execution_count": 179,
   "metadata": {},
   "outputs": [],
   "source": [
    "#creating movement key\n",
    "\n",
    "sales['movement'] = sales['vendor_group'] + ' to ' +sales['inventory_owner_group_combined'] "
   ]
  },
  {
   "cell_type": "code",
   "execution_count": 181,
   "metadata": {
    "scrolled": true
   },
   "outputs": [
    {
     "data": {
      "text/plain": [
       "(335395, 13)"
      ]
     },
     "execution_count": 181,
     "metadata": {},
     "output_type": "execute_result"
    }
   ],
   "source": [
    "sales.shape"
   ]
  },
  {
   "cell_type": "code",
   "execution_count": 5,
   "metadata": {},
   "outputs": [],
   "source": [
    "#splitting up strings of UPC Amazon delivers to us\n",
    "\n",
    "new = sales['ean'].str.split(\"/\", n =-1, expand = True) \n",
    "sales[\"ean1\"]= new[0] \n",
    "sales[\"ean2\"]= new[1] \n",
    "sales[\"ean3\"]= new[2] \n",
    "sales[\"ean4\"]= new[3] \n",
    "sales[\"ean5\"]= new[4] \n",
    "sales.drop(columns =[\"ean\"], inplace = True) "
   ]
  },
  {
   "cell_type": "code",
   "execution_count": 185,
   "metadata": {},
   "outputs": [],
   "source": [
    "sales['ean1'] = sales['ean1'].str.lstrip('0')"
   ]
  },
  {
   "cell_type": "code",
   "execution_count": 186,
   "metadata": {},
   "outputs": [],
   "source": [
    "sales['ean1'] = sales['ean1'].str.strip()"
   ]
  },
  {
   "cell_type": "code",
   "execution_count": 187,
   "metadata": {},
   "outputs": [],
   "source": [
    "sales['ean2'] = sales['ean2'].str.lstrip(' 0')"
   ]
  },
  {
   "cell_type": "code",
   "execution_count": 191,
   "metadata": {},
   "outputs": [],
   "source": [
    "sales['ean2'] = sales['ean2'].str.strip()"
   ]
  },
  {
   "cell_type": "code",
   "execution_count": 192,
   "metadata": {},
   "outputs": [],
   "source": [
    "sales['ean3'] = sales['ean3'].str.lstrip(' 0')"
   ]
  },
  {
   "cell_type": "code",
   "execution_count": 193,
   "metadata": {},
   "outputs": [],
   "source": [
    "sales['ean3'] = sales['ean3'].str.strip()"
   ]
  },
  {
   "cell_type": "code",
   "execution_count": 194,
   "metadata": {},
   "outputs": [],
   "source": [
    "sales['ean4'] = sales['ean4'].str.lstrip(' 0')"
   ]
  },
  {
   "cell_type": "code",
   "execution_count": 195,
   "metadata": {},
   "outputs": [],
   "source": [
    "sales['ean4'] = sales['ean4'].str.strip()"
   ]
  },
  {
   "cell_type": "code",
   "execution_count": 196,
   "metadata": {},
   "outputs": [],
   "source": [
    "sales['ean5'] = sales['ean5'].str.lstrip(' 0')"
   ]
  },
  {
   "cell_type": "code",
   "execution_count": 197,
   "metadata": {},
   "outputs": [],
   "source": [
    "sales['ean5'] = sales['ean5'].str.strip()"
   ]
  },
  {
   "cell_type": "code",
   "execution_count": 199,
   "metadata": {},
   "outputs": [],
   "source": [
    "### merge data\n",
    "combo1 = sales.merge(costs4, how='inner', left_on=[\"ean1\",\"vendor_group2\"], right_on=[\"UPC\",\"Region\"])"
   ]
  },
  {
   "cell_type": "code",
   "execution_count": 203,
   "metadata": {},
   "outputs": [],
   "source": [
    "### merge data\n",
    "combo2 = sales.merge(costs4, how='inner', left_on=[\"ean2\",\"vendor_group2\"], right_on=[\"UPC\",\"Region\"])"
   ]
  },
  {
   "cell_type": "code",
   "execution_count": 204,
   "metadata": {},
   "outputs": [],
   "source": [
    "### merge data\n",
    "combo3 = sales.merge(costs4, how='inner', left_on=[\"ean3\",\"vendor_group2\"], right_on=[\"UPC\",\"Region\"])"
   ]
  },
  {
   "cell_type": "code",
   "execution_count": 205,
   "metadata": {},
   "outputs": [],
   "source": [
    "### merge data\n",
    "combo4 = sales.merge(costs4, how='inner', left_on=[\"ean4\",\"vendor_group2\"], right_on=[\"UPC\",\"Region\"])"
   ]
  },
  {
   "cell_type": "code",
   "execution_count": 206,
   "metadata": {},
   "outputs": [],
   "source": [
    "### merge data\n",
    "combo5 = sales.merge(costs4, how='inner', left_on=[\"ean5\",\"vendor_group2\"], right_on=[\"UPC\",\"Region\"])"
   ]
  },
  {
   "cell_type": "code",
   "execution_count": 207,
   "metadata": {},
   "outputs": [],
   "source": [
    "frames = [combo1,combo2,combo3,combo4,combo4]\n",
    "\n",
    "combo6 = pd.concat(frames)"
   ]
  },
  {
   "cell_type": "code",
   "execution_count": 209,
   "metadata": {
    "scrolled": true
   },
   "outputs": [
    {
     "data": {
      "text/html": [
       "<div>\n",
       "<style scoped>\n",
       "    .dataframe tbody tr th:only-of-type {\n",
       "        vertical-align: middle;\n",
       "    }\n",
       "\n",
       "    .dataframe tbody tr th {\n",
       "        vertical-align: top;\n",
       "    }\n",
       "\n",
       "    .dataframe thead th {\n",
       "        text-align: right;\n",
       "    }\n",
       "</style>\n",
       "<table border=\"1\" class=\"dataframe\">\n",
       "  <thead>\n",
       "    <tr style=\"text-align: right;\">\n",
       "      <th></th>\n",
       "      <th>calendar_year</th>\n",
       "      <th>calendar_month_of_year</th>\n",
       "      <th>received_day</th>\n",
       "      <th>inventory_owner_group</th>\n",
       "      <th>vendor_group</th>\n",
       "      <th>artist_primary</th>\n",
       "      <th>item_name</th>\n",
       "      <th>unpacked_units</th>\n",
       "      <th>Report Type</th>\n",
       "      <th>inventory_owner_group_combined</th>\n",
       "      <th>...</th>\n",
       "      <th>ean2</th>\n",
       "      <th>ean3</th>\n",
       "      <th>ean4</th>\n",
       "      <th>ean5</th>\n",
       "      <th>Region</th>\n",
       "      <th>UPC</th>\n",
       "      <th>Transfer Price</th>\n",
       "      <th>Dealer Price</th>\n",
       "      <th>Net Unit Price</th>\n",
       "      <th>Currency</th>\n",
       "    </tr>\n",
       "  </thead>\n",
       "  <tbody>\n",
       "    <tr>\n",
       "      <th>0</th>\n",
       "      <td>2020</td>\n",
       "      <td>4</td>\n",
       "      <td>2020-04-28</td>\n",
       "      <td>DE</td>\n",
       "      <td>UMG DE</td>\n",
       "      <td>Crusaders,the</td>\n",
       "      <td>Street Life</td>\n",
       "      <td>1</td>\n",
       "      <td>Gross Shipments</td>\n",
       "      <td>DE</td>\n",
       "      <td>...</td>\n",
       "      <td>None</td>\n",
       "      <td>None</td>\n",
       "      <td>None</td>\n",
       "      <td>None</td>\n",
       "      <td>DE</td>\n",
       "      <td>8810181520</td>\n",
       "      <td>0.6173</td>\n",
       "      <td>5.35</td>\n",
       "      <td>4.92</td>\n",
       "      <td>EUR</td>\n",
       "    </tr>\n",
       "    <tr>\n",
       "      <th>1</th>\n",
       "      <td>2020</td>\n",
       "      <td>4</td>\n",
       "      <td>2020-04-27</td>\n",
       "      <td>DE</td>\n",
       "      <td>UMG DE</td>\n",
       "      <td>Crusaders,the</td>\n",
       "      <td>Street Life</td>\n",
       "      <td>1</td>\n",
       "      <td>Gross Shipments</td>\n",
       "      <td>DE</td>\n",
       "      <td>...</td>\n",
       "      <td>None</td>\n",
       "      <td>None</td>\n",
       "      <td>None</td>\n",
       "      <td>None</td>\n",
       "      <td>DE</td>\n",
       "      <td>8810181520</td>\n",
       "      <td>0.6173</td>\n",
       "      <td>5.35</td>\n",
       "      <td>4.92</td>\n",
       "      <td>EUR</td>\n",
       "    </tr>\n",
       "    <tr>\n",
       "      <th>2</th>\n",
       "      <td>2020</td>\n",
       "      <td>4</td>\n",
       "      <td>2020-04-27</td>\n",
       "      <td>www.amazon.fr</td>\n",
       "      <td>UMG DE</td>\n",
       "      <td>The Crusaders</td>\n",
       "      <td>The Crusaders - Street Life</td>\n",
       "      <td>1</td>\n",
       "      <td>Monthly Sales</td>\n",
       "      <td>FR</td>\n",
       "      <td>...</td>\n",
       "      <td>None</td>\n",
       "      <td>None</td>\n",
       "      <td>None</td>\n",
       "      <td>None</td>\n",
       "      <td>DE</td>\n",
       "      <td>8810181520</td>\n",
       "      <td>0.6173</td>\n",
       "      <td>5.35</td>\n",
       "      <td>4.92</td>\n",
       "      <td>EUR</td>\n",
       "    </tr>\n",
       "    <tr>\n",
       "      <th>3</th>\n",
       "      <td>2020</td>\n",
       "      <td>4</td>\n",
       "      <td>2020-04-27</td>\n",
       "      <td>www.amazon.es</td>\n",
       "      <td>UMG DE</td>\n",
       "      <td>The Crusaders</td>\n",
       "      <td>The Crusaders - Street Life</td>\n",
       "      <td>1</td>\n",
       "      <td>Monthly Sales</td>\n",
       "      <td>ES</td>\n",
       "      <td>...</td>\n",
       "      <td>None</td>\n",
       "      <td>None</td>\n",
       "      <td>None</td>\n",
       "      <td>None</td>\n",
       "      <td>DE</td>\n",
       "      <td>8810181520</td>\n",
       "      <td>0.6173</td>\n",
       "      <td>5.35</td>\n",
       "      <td>4.92</td>\n",
       "      <td>EUR</td>\n",
       "    </tr>\n",
       "    <tr>\n",
       "      <th>4</th>\n",
       "      <td>2020</td>\n",
       "      <td>4</td>\n",
       "      <td>2020-04-14</td>\n",
       "      <td>www.amazon.de</td>\n",
       "      <td>UMG DE</td>\n",
       "      <td>The Crusaders</td>\n",
       "      <td>The Crusaders - Street Life</td>\n",
       "      <td>1</td>\n",
       "      <td>Monthly Sales</td>\n",
       "      <td>DE</td>\n",
       "      <td>...</td>\n",
       "      <td>None</td>\n",
       "      <td>None</td>\n",
       "      <td>None</td>\n",
       "      <td>None</td>\n",
       "      <td>DE</td>\n",
       "      <td>8810181520</td>\n",
       "      <td>0.6173</td>\n",
       "      <td>5.35</td>\n",
       "      <td>4.92</td>\n",
       "      <td>EUR</td>\n",
       "    </tr>\n",
       "    <tr>\n",
       "      <th>...</th>\n",
       "      <td>...</td>\n",
       "      <td>...</td>\n",
       "      <td>...</td>\n",
       "      <td>...</td>\n",
       "      <td>...</td>\n",
       "      <td>...</td>\n",
       "      <td>...</td>\n",
       "      <td>...</td>\n",
       "      <td>...</td>\n",
       "      <td>...</td>\n",
       "      <td>...</td>\n",
       "      <td>...</td>\n",
       "      <td>...</td>\n",
       "      <td>...</td>\n",
       "      <td>...</td>\n",
       "      <td>...</td>\n",
       "      <td>...</td>\n",
       "      <td>...</td>\n",
       "      <td>...</td>\n",
       "      <td>...</td>\n",
       "      <td>...</td>\n",
       "    </tr>\n",
       "    <tr>\n",
       "      <th>124</th>\n",
       "      <td>2020</td>\n",
       "      <td>4</td>\n",
       "      <td>2020-04-08</td>\n",
       "      <td>www.amazon.co.uk</td>\n",
       "      <td>UMG UK</td>\n",
       "      <td>Walker,Scott</td>\n",
       "      <td>Walker Scott-Sing Jacques BREL</td>\n",
       "      <td>1</td>\n",
       "      <td>Monthly Sales</td>\n",
       "      <td>UK</td>\n",
       "      <td>...</td>\n",
       "      <td>5055389140750</td>\n",
       "      <td>42283821224</td>\n",
       "      <td>42283821224</td>\n",
       "      <td>4228382122</td>\n",
       "      <td>UK</td>\n",
       "      <td>42283821224</td>\n",
       "      <td>0.6275</td>\n",
       "      <td>3.50</td>\n",
       "      <td>2.77</td>\n",
       "      <td>GBP</td>\n",
       "    </tr>\n",
       "    <tr>\n",
       "      <th>125</th>\n",
       "      <td>2020</td>\n",
       "      <td>4</td>\n",
       "      <td>2020-04-29</td>\n",
       "      <td>www.amazon.co.uk</td>\n",
       "      <td>UMG UK</td>\n",
       "      <td>Walker,Scott</td>\n",
       "      <td>Walker Scott-Sing Jacques BREL</td>\n",
       "      <td>1</td>\n",
       "      <td>Monthly Sales</td>\n",
       "      <td>UK</td>\n",
       "      <td>...</td>\n",
       "      <td>5055389140750</td>\n",
       "      <td>42283821224</td>\n",
       "      <td>42283821224</td>\n",
       "      <td>4228382122</td>\n",
       "      <td>UK</td>\n",
       "      <td>42283821224</td>\n",
       "      <td>0.6275</td>\n",
       "      <td>3.50</td>\n",
       "      <td>2.77</td>\n",
       "      <td>GBP</td>\n",
       "    </tr>\n",
       "    <tr>\n",
       "      <th>126</th>\n",
       "      <td>2020</td>\n",
       "      <td>4</td>\n",
       "      <td>2020-04-02</td>\n",
       "      <td>www.amazon.co.uk</td>\n",
       "      <td>UMG UK</td>\n",
       "      <td>Walker,Scott</td>\n",
       "      <td>Walker Scott-Sing Jacques BREL</td>\n",
       "      <td>1</td>\n",
       "      <td>Monthly Sales</td>\n",
       "      <td>UK</td>\n",
       "      <td>...</td>\n",
       "      <td>5055389140750</td>\n",
       "      <td>42283821224</td>\n",
       "      <td>42283821224</td>\n",
       "      <td>4228382122</td>\n",
       "      <td>UK</td>\n",
       "      <td>42283821224</td>\n",
       "      <td>0.6275</td>\n",
       "      <td>3.50</td>\n",
       "      <td>2.77</td>\n",
       "      <td>GBP</td>\n",
       "    </tr>\n",
       "    <tr>\n",
       "      <th>127</th>\n",
       "      <td>2020</td>\n",
       "      <td>4</td>\n",
       "      <td>2020-04-03</td>\n",
       "      <td>www.amazon.co.uk</td>\n",
       "      <td>UMG UK</td>\n",
       "      <td>Walker,Scott</td>\n",
       "      <td>Walker Scott-Sing Jacques BREL</td>\n",
       "      <td>1</td>\n",
       "      <td>Monthly Sales</td>\n",
       "      <td>UK</td>\n",
       "      <td>...</td>\n",
       "      <td>5055389140750</td>\n",
       "      <td>42283821224</td>\n",
       "      <td>42283821224</td>\n",
       "      <td>4228382122</td>\n",
       "      <td>UK</td>\n",
       "      <td>42283821224</td>\n",
       "      <td>0.6275</td>\n",
       "      <td>3.50</td>\n",
       "      <td>2.77</td>\n",
       "      <td>GBP</td>\n",
       "    </tr>\n",
       "    <tr>\n",
       "      <th>128</th>\n",
       "      <td>2020</td>\n",
       "      <td>4</td>\n",
       "      <td>2020-04-04</td>\n",
       "      <td>www.amazon.co.uk</td>\n",
       "      <td>UMG UK</td>\n",
       "      <td>Walker,Scott</td>\n",
       "      <td>Walker Scott-Sing Jacques BREL</td>\n",
       "      <td>1</td>\n",
       "      <td>Monthly Sales</td>\n",
       "      <td>UK</td>\n",
       "      <td>...</td>\n",
       "      <td>5055389140750</td>\n",
       "      <td>42283821224</td>\n",
       "      <td>42283821224</td>\n",
       "      <td>4228382122</td>\n",
       "      <td>UK</td>\n",
       "      <td>42283821224</td>\n",
       "      <td>0.6275</td>\n",
       "      <td>3.50</td>\n",
       "      <td>2.77</td>\n",
       "      <td>GBP</td>\n",
       "    </tr>\n",
       "  </tbody>\n",
       "</table>\n",
       "<p>187791 rows × 23 columns</p>\n",
       "</div>"
      ],
      "text/plain": [
       "     calendar_year  calendar_month_of_year received_day inventory_owner_group  \\\n",
       "0             2020                       4   2020-04-28                    DE   \n",
       "1             2020                       4   2020-04-27                    DE   \n",
       "2             2020                       4   2020-04-27         www.amazon.fr   \n",
       "3             2020                       4   2020-04-27         www.amazon.es   \n",
       "4             2020                       4   2020-04-14         www.amazon.de   \n",
       "..             ...                     ...          ...                   ...   \n",
       "124           2020                       4   2020-04-08      www.amazon.co.uk   \n",
       "125           2020                       4   2020-04-29      www.amazon.co.uk   \n",
       "126           2020                       4   2020-04-02      www.amazon.co.uk   \n",
       "127           2020                       4   2020-04-03      www.amazon.co.uk   \n",
       "128           2020                       4   2020-04-04      www.amazon.co.uk   \n",
       "\n",
       "    vendor_group artist_primary                       item_name  \\\n",
       "0         UMG DE  Crusaders,the                     Street Life   \n",
       "1         UMG DE  Crusaders,the                     Street Life   \n",
       "2         UMG DE  The Crusaders     The Crusaders - Street Life   \n",
       "3         UMG DE  The Crusaders     The Crusaders - Street Life   \n",
       "4         UMG DE  The Crusaders     The Crusaders - Street Life   \n",
       "..           ...            ...                             ...   \n",
       "124       UMG UK   Walker,Scott  Walker Scott-Sing Jacques BREL   \n",
       "125       UMG UK   Walker,Scott  Walker Scott-Sing Jacques BREL   \n",
       "126       UMG UK   Walker,Scott  Walker Scott-Sing Jacques BREL   \n",
       "127       UMG UK   Walker,Scott  Walker Scott-Sing Jacques BREL   \n",
       "128       UMG UK   Walker,Scott  Walker Scott-Sing Jacques BREL   \n",
       "\n",
       "     unpacked_units      Report Type inventory_owner_group_combined  ...  \\\n",
       "0                 1  Gross Shipments                             DE  ...   \n",
       "1                 1  Gross Shipments                             DE  ...   \n",
       "2                 1    Monthly Sales                             FR  ...   \n",
       "3                 1    Monthly Sales                             ES  ...   \n",
       "4                 1    Monthly Sales                             DE  ...   \n",
       "..              ...              ...                            ...  ...   \n",
       "124               1    Monthly Sales                             UK  ...   \n",
       "125               1    Monthly Sales                             UK  ...   \n",
       "126               1    Monthly Sales                             UK  ...   \n",
       "127               1    Monthly Sales                             UK  ...   \n",
       "128               1    Monthly Sales                             UK  ...   \n",
       "\n",
       "              ean2         ean3         ean4        ean5 Region          UPC  \\\n",
       "0             None         None         None        None     DE   8810181520   \n",
       "1             None         None         None        None     DE   8810181520   \n",
       "2             None         None         None        None     DE   8810181520   \n",
       "3             None         None         None        None     DE   8810181520   \n",
       "4             None         None         None        None     DE   8810181520   \n",
       "..             ...          ...          ...         ...    ...          ...   \n",
       "124  5055389140750  42283821224  42283821224  4228382122     UK  42283821224   \n",
       "125  5055389140750  42283821224  42283821224  4228382122     UK  42283821224   \n",
       "126  5055389140750  42283821224  42283821224  4228382122     UK  42283821224   \n",
       "127  5055389140750  42283821224  42283821224  4228382122     UK  42283821224   \n",
       "128  5055389140750  42283821224  42283821224  4228382122     UK  42283821224   \n",
       "\n",
       "    Transfer Price Dealer Price Net Unit Price  Currency   \n",
       "0           0.6173         5.35           4.92        EUR  \n",
       "1           0.6173         5.35           4.92        EUR  \n",
       "2           0.6173         5.35           4.92        EUR  \n",
       "3           0.6173         5.35           4.92        EUR  \n",
       "4           0.6173         5.35           4.92        EUR  \n",
       "..             ...          ...            ...        ...  \n",
       "124         0.6275         3.50           2.77        GBP  \n",
       "125         0.6275         3.50           2.77        GBP  \n",
       "126         0.6275         3.50           2.77        GBP  \n",
       "127         0.6275         3.50           2.77        GBP  \n",
       "128         0.6275         3.50           2.77        GBP  \n",
       "\n",
       "[187791 rows x 23 columns]"
      ]
     },
     "execution_count": 209,
     "metadata": {},
     "output_type": "execute_result"
    }
   ],
   "source": [
    "combo6"
   ]
  },
  {
   "cell_type": "code",
   "execution_count": 210,
   "metadata": {},
   "outputs": [
    {
     "data": {
      "text/plain": [
       "2198"
      ]
     },
     "execution_count": 210,
     "metadata": {},
     "output_type": "execute_result"
    }
   ],
   "source": [
    "sum(combo6.duplicated())"
   ]
  },
  {
   "cell_type": "code",
   "execution_count": 211,
   "metadata": {},
   "outputs": [],
   "source": [
    "##drop duplicates\n",
    "combo7 = combo6.drop_duplicates(ignore_index = True)"
   ]
  },
  {
   "cell_type": "code",
   "execution_count": 213,
   "metadata": {},
   "outputs": [
    {
     "data": {
      "text/plain": [
       "(185593, 23)"
      ]
     },
     "execution_count": 213,
     "metadata": {},
     "output_type": "execute_result"
    }
   ],
   "source": [
    "###amount of rows\n",
    "combo7.shape"
   ]
  },
  {
   "cell_type": "code",
   "execution_count": 214,
   "metadata": {},
   "outputs": [],
   "source": [
    "### drop row which didn't match\n",
    "combo8 = combo7[combo7['UPC'].notna()]"
   ]
  },
  {
   "cell_type": "code",
   "execution_count": 215,
   "metadata": {},
   "outputs": [
    {
     "data": {
      "text/plain": [
       "(185593, 23)"
      ]
     },
     "execution_count": 215,
     "metadata": {},
     "output_type": "execute_result"
    }
   ],
   "source": [
    "### amount of rows\n",
    "combo8.shape"
   ]
  },
  {
   "cell_type": "code",
   "execution_count": 216,
   "metadata": {},
   "outputs": [
    {
     "data": {
      "text/plain": [
       "0"
      ]
     },
     "execution_count": 216,
     "metadata": {},
     "output_type": "execute_result"
    }
   ],
   "source": [
    "###check for duplicates rows\n",
    "sum(combo8.duplicated())"
   ]
  },
  {
   "cell_type": "code",
   "execution_count": 217,
   "metadata": {},
   "outputs": [],
   "source": [
    "### merge data\n",
    "combo9 = combo8.merge(costs4, how='inner', left_on=[\"ean1\",\"inventory_owner_group_combined\"], right_on=[\"UPC\",\"Region\"])"
   ]
  },
  {
   "cell_type": "code",
   "execution_count": 218,
   "metadata": {},
   "outputs": [],
   "source": [
    "### merge data\n",
    "combo10 = combo8.merge(costs4, how='inner', left_on=[\"ean2\",\"inventory_owner_group_combined\"], right_on=[\"UPC\",\"Region\"])"
   ]
  },
  {
   "cell_type": "code",
   "execution_count": 219,
   "metadata": {},
   "outputs": [],
   "source": [
    "### merge data\n",
    "combo11 = combo8.merge(costs4, how='inner', left_on=[\"ean3\",\"inventory_owner_group_combined\"], right_on=[\"UPC\",\"Region\"])"
   ]
  },
  {
   "cell_type": "code",
   "execution_count": 220,
   "metadata": {},
   "outputs": [],
   "source": [
    "### merge data\n",
    "combo12 = combo8.merge(costs4, how='inner', left_on=[\"ean4\",\"inventory_owner_group_combined\"], right_on=[\"UPC\",\"Region\"])"
   ]
  },
  {
   "cell_type": "code",
   "execution_count": 221,
   "metadata": {},
   "outputs": [],
   "source": [
    "### merge data\n",
    "combo13 = combo8.merge(costs4, how='inner', left_on=[\"ean5\",\"inventory_owner_group_combined\"], right_on=[\"UPC\",\"Region\"])"
   ]
  },
  {
   "cell_type": "code",
   "execution_count": 222,
   "metadata": {},
   "outputs": [],
   "source": [
    "frames2 = [combo9,combo10,combo11,combo12,combo13]\n",
    "\n",
    "combo14 = pd.concat(frames2)"
   ]
  },
  {
   "cell_type": "code",
   "execution_count": 223,
   "metadata": {},
   "outputs": [
    {
     "data": {
      "text/plain": [
       "(174324, 29)"
      ]
     },
     "execution_count": 223,
     "metadata": {},
     "output_type": "execute_result"
    }
   ],
   "source": [
    "combo14.shape"
   ]
  },
  {
   "cell_type": "code",
   "execution_count": 225,
   "metadata": {},
   "outputs": [
    {
     "data": {
      "text/plain": [
       "calendar_year                              int64\n",
       "calendar_month_of_year                     int64\n",
       "received_day                      datetime64[ns]\n",
       "inventory_owner_group                     object\n",
       "vendor_group                              object\n",
       "artist_primary                            object\n",
       "item_name                                 object\n",
       "unpacked_units                             int64\n",
       "Report Type                               object\n",
       "inventory_owner_group_combined            object\n",
       "vendor_group2                             object\n",
       "movement                                  object\n",
       "ean1                                      object\n",
       "ean2                                      object\n",
       "ean3                                      object\n",
       "ean4                                      object\n",
       "ean5                                      object\n",
       "Region_x                                  object\n",
       "UPC_x                                     object\n",
       "Transfer Price_x                         float64\n",
       "Dealer Price_x                           float64\n",
       "Net Unit Price_x                         float64\n",
       "Currency _x                               object\n",
       "Region_y                                  object\n",
       "UPC_y                                     object\n",
       "Transfer Price_y                         float64\n",
       "Dealer Price_y                           float64\n",
       "Net Unit Price_y                         float64\n",
       "Currency _y                               object\n",
       "dtype: object"
      ]
     },
     "execution_count": 225,
     "metadata": {},
     "output_type": "execute_result"
    }
   ],
   "source": [
    "combo14.dtypes"
   ]
  },
  {
   "cell_type": "code",
   "execution_count": 226,
   "metadata": {},
   "outputs": [],
   "source": [
    "del combo14['Region_y']"
   ]
  },
  {
   "cell_type": "code",
   "execution_count": 227,
   "metadata": {},
   "outputs": [],
   "source": [
    "del combo14['Transfer Price_y']"
   ]
  },
  {
   "cell_type": "code",
   "execution_count": 228,
   "metadata": {},
   "outputs": [],
   "source": [
    "del combo14['Dealer Price_y']"
   ]
  },
  {
   "cell_type": "code",
   "execution_count": 229,
   "metadata": {},
   "outputs": [],
   "source": [
    "del combo14['Net Unit Price_y']"
   ]
  },
  {
   "cell_type": "code",
   "execution_count": 230,
   "metadata": {},
   "outputs": [],
   "source": [
    "del combo14['Currency _y']"
   ]
  },
  {
   "cell_type": "code",
   "execution_count": 231,
   "metadata": {},
   "outputs": [],
   "source": [
    "del combo14['UPC_y']"
   ]
  },
  {
   "cell_type": "code",
   "execution_count": 232,
   "metadata": {},
   "outputs": [
    {
     "data": {
      "text/plain": [
       "calendar_year                              int64\n",
       "calendar_month_of_year                     int64\n",
       "received_day                      datetime64[ns]\n",
       "inventory_owner_group                     object\n",
       "vendor_group                              object\n",
       "artist_primary                            object\n",
       "item_name                                 object\n",
       "unpacked_units                             int64\n",
       "Report Type                               object\n",
       "inventory_owner_group_combined            object\n",
       "vendor_group2                             object\n",
       "movement                                  object\n",
       "ean1                                      object\n",
       "ean2                                      object\n",
       "ean3                                      object\n",
       "ean4                                      object\n",
       "ean5                                      object\n",
       "Region_x                                  object\n",
       "UPC_x                                     object\n",
       "Transfer Price_x                         float64\n",
       "Dealer Price_x                           float64\n",
       "Net Unit Price_x                         float64\n",
       "Currency _x                               object\n",
       "dtype: object"
      ]
     },
     "execution_count": 232,
     "metadata": {},
     "output_type": "execute_result"
    }
   ],
   "source": [
    "combo14.dtypes"
   ]
  },
  {
   "cell_type": "code",
   "execution_count": 233,
   "metadata": {},
   "outputs": [],
   "source": [
    "## rename columns for google big query upload \n",
    "combo15 = combo14.rename(columns={'Region_x': 'Region', 'Transfer Price_x':'Transfer Price','Dealer Price_x':'Dealer Price','Net Unit Price_x':'Net Unit Price','Currency _x':'Currency ','UPC_x':'UPC'})"
   ]
  },
  {
   "cell_type": "code",
   "execution_count": 234,
   "metadata": {},
   "outputs": [],
   "source": [
    "#importing international catalogue data\n",
    "\n",
    "international_catalogue = pd.read_excel(r'G:\\Amazon Repatriation May 2020\\UMGI Physical Catalogue_17042020.xlsx', dtype={'UPC': str})"
   ]
  },
  {
   "cell_type": "code",
   "execution_count": 236,
   "metadata": {},
   "outputs": [],
   "source": [
    "### drop redundant columns\n",
    "cat2 = international_catalogue[['Rep Owner','UPC']]"
   ]
  },
  {
   "cell_type": "code",
   "execution_count": 237,
   "metadata": {},
   "outputs": [
    {
     "data": {
      "text/html": [
       "<div>\n",
       "<style scoped>\n",
       "    .dataframe tbody tr th:only-of-type {\n",
       "        vertical-align: middle;\n",
       "    }\n",
       "\n",
       "    .dataframe tbody tr th {\n",
       "        vertical-align: top;\n",
       "    }\n",
       "\n",
       "    .dataframe thead th {\n",
       "        text-align: right;\n",
       "    }\n",
       "</style>\n",
       "<table border=\"1\" class=\"dataframe\">\n",
       "  <thead>\n",
       "    <tr style=\"text-align: right;\">\n",
       "      <th></th>\n",
       "      <th>Rep Owner</th>\n",
       "      <th>UPC</th>\n",
       "    </tr>\n",
       "  </thead>\n",
       "  <tbody>\n",
       "    <tr>\n",
       "      <th>0</th>\n",
       "      <td>Barclay</td>\n",
       "      <td>602498094709</td>\n",
       "    </tr>\n",
       "    <tr>\n",
       "      <th>1</th>\n",
       "      <td>MCA Nashville</td>\n",
       "      <td>8817039022</td>\n",
       "    </tr>\n",
       "    <tr>\n",
       "      <th>2</th>\n",
       "      <td>Geffen</td>\n",
       "      <td>602498613368</td>\n",
       "    </tr>\n",
       "    <tr>\n",
       "      <th>3</th>\n",
       "      <td>Geffen</td>\n",
       "      <td>602498613375</td>\n",
       "    </tr>\n",
       "    <tr>\n",
       "      <th>4</th>\n",
       "      <td>Geffen</td>\n",
       "      <td>602498613382</td>\n",
       "    </tr>\n",
       "    <tr>\n",
       "      <th>...</th>\n",
       "      <td>...</td>\n",
       "      <td>...</td>\n",
       "    </tr>\n",
       "    <tr>\n",
       "      <th>21816</th>\n",
       "      <td>Caroline S&amp;D</td>\n",
       "      <td>5060686508806</td>\n",
       "    </tr>\n",
       "    <tr>\n",
       "      <th>21817</th>\n",
       "      <td>Caroline International</td>\n",
       "      <td>5060496184580</td>\n",
       "    </tr>\n",
       "    <tr>\n",
       "      <th>21818</th>\n",
       "      <td>Caroline International</td>\n",
       "      <td>5060496184597</td>\n",
       "    </tr>\n",
       "    <tr>\n",
       "      <th>21819</th>\n",
       "      <td>FR Capitol</td>\n",
       "      <td>600753915998</td>\n",
       "    </tr>\n",
       "    <tr>\n",
       "      <th>21820</th>\n",
       "      <td>Eagle Rock Entertainment Ltd</td>\n",
       "      <td>602508955341</td>\n",
       "    </tr>\n",
       "  </tbody>\n",
       "</table>\n",
       "<p>21821 rows × 2 columns</p>\n",
       "</div>"
      ],
      "text/plain": [
       "                          Rep Owner            UPC\n",
       "0                           Barclay   602498094709\n",
       "1                     MCA Nashville     8817039022\n",
       "2                            Geffen   602498613368\n",
       "3                            Geffen   602498613375\n",
       "4                            Geffen   602498613382\n",
       "...                             ...            ...\n",
       "21816                  Caroline S&D  5060686508806\n",
       "21817        Caroline International  5060496184580\n",
       "21818        Caroline International  5060496184597\n",
       "21819                    FR Capitol   600753915998\n",
       "21820  Eagle Rock Entertainment Ltd   602508955341\n",
       "\n",
       "[21821 rows x 2 columns]"
      ]
     },
     "execution_count": 237,
     "metadata": {},
     "output_type": "execute_result"
    }
   ],
   "source": [
    "## show columns\n",
    "cat2"
   ]
  },
  {
   "cell_type": "code",
   "execution_count": 238,
   "metadata": {},
   "outputs": [],
   "source": [
    "##drop duplicates\n",
    "cat3 = cat2.drop_duplicates(ignore_index = True)"
   ]
  },
  {
   "cell_type": "code",
   "execution_count": 239,
   "metadata": {},
   "outputs": [
    {
     "data": {
      "text/plain": [
       "0"
      ]
     },
     "execution_count": 239,
     "metadata": {},
     "output_type": "execute_result"
    }
   ],
   "source": [
    "###check for duplicates rows\n",
    "sum(cat3.duplicated())"
   ]
  },
  {
   "cell_type": "code",
   "execution_count": 240,
   "metadata": {},
   "outputs": [
    {
     "data": {
      "text/html": [
       "<div>\n",
       "<style scoped>\n",
       "    .dataframe tbody tr th:only-of-type {\n",
       "        vertical-align: middle;\n",
       "    }\n",
       "\n",
       "    .dataframe tbody tr th {\n",
       "        vertical-align: top;\n",
       "    }\n",
       "\n",
       "    .dataframe thead th {\n",
       "        text-align: right;\n",
       "    }\n",
       "</style>\n",
       "<table border=\"1\" class=\"dataframe\">\n",
       "  <thead>\n",
       "    <tr style=\"text-align: right;\">\n",
       "      <th></th>\n",
       "      <th>Rep Owner</th>\n",
       "      <th>UPC</th>\n",
       "    </tr>\n",
       "  </thead>\n",
       "  <tbody>\n",
       "    <tr>\n",
       "      <th>0</th>\n",
       "      <td>Barclay</td>\n",
       "      <td>602498094709</td>\n",
       "    </tr>\n",
       "    <tr>\n",
       "      <th>1</th>\n",
       "      <td>MCA Nashville</td>\n",
       "      <td>8817039022</td>\n",
       "    </tr>\n",
       "    <tr>\n",
       "      <th>2</th>\n",
       "      <td>Geffen</td>\n",
       "      <td>602498613368</td>\n",
       "    </tr>\n",
       "    <tr>\n",
       "      <th>3</th>\n",
       "      <td>Geffen</td>\n",
       "      <td>602498613375</td>\n",
       "    </tr>\n",
       "    <tr>\n",
       "      <th>4</th>\n",
       "      <td>Geffen</td>\n",
       "      <td>602498613382</td>\n",
       "    </tr>\n",
       "    <tr>\n",
       "      <th>...</th>\n",
       "      <td>...</td>\n",
       "      <td>...</td>\n",
       "    </tr>\n",
       "    <tr>\n",
       "      <th>21388</th>\n",
       "      <td>Caroline S&amp;D</td>\n",
       "      <td>5060686508806</td>\n",
       "    </tr>\n",
       "    <tr>\n",
       "      <th>21389</th>\n",
       "      <td>Caroline International</td>\n",
       "      <td>5060496184580</td>\n",
       "    </tr>\n",
       "    <tr>\n",
       "      <th>21390</th>\n",
       "      <td>Caroline International</td>\n",
       "      <td>5060496184597</td>\n",
       "    </tr>\n",
       "    <tr>\n",
       "      <th>21391</th>\n",
       "      <td>FR Capitol</td>\n",
       "      <td>600753915998</td>\n",
       "    </tr>\n",
       "    <tr>\n",
       "      <th>21392</th>\n",
       "      <td>Eagle Rock Entertainment Ltd</td>\n",
       "      <td>602508955341</td>\n",
       "    </tr>\n",
       "  </tbody>\n",
       "</table>\n",
       "<p>21393 rows × 2 columns</p>\n",
       "</div>"
      ],
      "text/plain": [
       "                          Rep Owner            UPC\n",
       "0                           Barclay   602498094709\n",
       "1                     MCA Nashville     8817039022\n",
       "2                            Geffen   602498613368\n",
       "3                            Geffen   602498613375\n",
       "4                            Geffen   602498613382\n",
       "...                             ...            ...\n",
       "21388                  Caroline S&D  5060686508806\n",
       "21389        Caroline International  5060496184580\n",
       "21390        Caroline International  5060496184597\n",
       "21391                    FR Capitol   600753915998\n",
       "21392  Eagle Rock Entertainment Ltd   602508955341\n",
       "\n",
       "[21393 rows x 2 columns]"
      ]
     },
     "execution_count": 240,
     "metadata": {},
     "output_type": "execute_result"
    }
   ],
   "source": [
    "## show cat3\n",
    "cat3"
   ]
  },
  {
   "cell_type": "code",
   "execution_count": 241,
   "metadata": {},
   "outputs": [],
   "source": [
    "##only keep first label\n",
    "cat4 = cat3.drop_duplicates(subset='UPC', keep=\"first\")"
   ]
  },
  {
   "cell_type": "code",
   "execution_count": 242,
   "metadata": {},
   "outputs": [
    {
     "data": {
      "text/html": [
       "<div>\n",
       "<style scoped>\n",
       "    .dataframe tbody tr th:only-of-type {\n",
       "        vertical-align: middle;\n",
       "    }\n",
       "\n",
       "    .dataframe tbody tr th {\n",
       "        vertical-align: top;\n",
       "    }\n",
       "\n",
       "    .dataframe thead th {\n",
       "        text-align: right;\n",
       "    }\n",
       "</style>\n",
       "<table border=\"1\" class=\"dataframe\">\n",
       "  <thead>\n",
       "    <tr style=\"text-align: right;\">\n",
       "      <th></th>\n",
       "      <th>Rep Owner</th>\n",
       "      <th>UPC</th>\n",
       "    </tr>\n",
       "  </thead>\n",
       "  <tbody>\n",
       "    <tr>\n",
       "      <th>0</th>\n",
       "      <td>Barclay</td>\n",
       "      <td>602498094709</td>\n",
       "    </tr>\n",
       "    <tr>\n",
       "      <th>1</th>\n",
       "      <td>MCA Nashville</td>\n",
       "      <td>8817039022</td>\n",
       "    </tr>\n",
       "    <tr>\n",
       "      <th>2</th>\n",
       "      <td>Geffen</td>\n",
       "      <td>602498613368</td>\n",
       "    </tr>\n",
       "    <tr>\n",
       "      <th>3</th>\n",
       "      <td>Geffen</td>\n",
       "      <td>602498613375</td>\n",
       "    </tr>\n",
       "    <tr>\n",
       "      <th>4</th>\n",
       "      <td>Geffen</td>\n",
       "      <td>602498613382</td>\n",
       "    </tr>\n",
       "    <tr>\n",
       "      <th>...</th>\n",
       "      <td>...</td>\n",
       "      <td>...</td>\n",
       "    </tr>\n",
       "    <tr>\n",
       "      <th>21388</th>\n",
       "      <td>Caroline S&amp;D</td>\n",
       "      <td>5060686508806</td>\n",
       "    </tr>\n",
       "    <tr>\n",
       "      <th>21389</th>\n",
       "      <td>Caroline International</td>\n",
       "      <td>5060496184580</td>\n",
       "    </tr>\n",
       "    <tr>\n",
       "      <th>21390</th>\n",
       "      <td>Caroline International</td>\n",
       "      <td>5060496184597</td>\n",
       "    </tr>\n",
       "    <tr>\n",
       "      <th>21391</th>\n",
       "      <td>FR Capitol</td>\n",
       "      <td>600753915998</td>\n",
       "    </tr>\n",
       "    <tr>\n",
       "      <th>21392</th>\n",
       "      <td>Eagle Rock Entertainment Ltd</td>\n",
       "      <td>602508955341</td>\n",
       "    </tr>\n",
       "  </tbody>\n",
       "</table>\n",
       "<p>21392 rows × 2 columns</p>\n",
       "</div>"
      ],
      "text/plain": [
       "                          Rep Owner            UPC\n",
       "0                           Barclay   602498094709\n",
       "1                     MCA Nashville     8817039022\n",
       "2                            Geffen   602498613368\n",
       "3                            Geffen   602498613375\n",
       "4                            Geffen   602498613382\n",
       "...                             ...            ...\n",
       "21388                  Caroline S&D  5060686508806\n",
       "21389        Caroline International  5060496184580\n",
       "21390        Caroline International  5060496184597\n",
       "21391                    FR Capitol   600753915998\n",
       "21392  Eagle Rock Entertainment Ltd   602508955341\n",
       "\n",
       "[21392 rows x 2 columns]"
      ]
     },
     "execution_count": 242,
     "metadata": {},
     "output_type": "execute_result"
    }
   ],
   "source": [
    "#show cat4\n",
    "cat4"
   ]
  },
  {
   "cell_type": "code",
   "execution_count": 243,
   "metadata": {},
   "outputs": [],
   "source": [
    "### drop row which didn't match\n",
    "cat5 = cat4[cat4['UPC'].notna()]"
   ]
  },
  {
   "cell_type": "code",
   "execution_count": 244,
   "metadata": {},
   "outputs": [],
   "source": [
    "#merging our dataset and international catalogue to return Rep Owner for each UPC\n",
    "\n",
    "combo_cat = pd.merge(combo15,cat5[['UPC','Rep Owner']],\n",
    "                     left_on='UPC', right_on=['UPC'], how='left')"
   ]
  },
  {
   "cell_type": "code",
   "execution_count": 246,
   "metadata": {},
   "outputs": [],
   "source": [
    "## rename columns \n",
    "combo_cat2 = combo_cat.rename(columns={'Rep Owner': 'Rep_Owner'})"
   ]
  },
  {
   "cell_type": "code",
   "execution_count": 248,
   "metadata": {},
   "outputs": [
    {
     "data": {
      "text/plain": [
       "(174324, 24)"
      ]
     },
     "execution_count": 248,
     "metadata": {},
     "output_type": "execute_result"
    }
   ],
   "source": [
    "### count rows and columsn in combo2\n",
    "combo_cat2.shape"
   ]
  },
  {
   "cell_type": "code",
   "execution_count": 249,
   "metadata": {},
   "outputs": [],
   "source": [
    "###drop caroline labels\n",
    "combo_cat3 = combo_cat2[~combo_cat2.Rep_Owner.str.contains('Caroline', na=False)]"
   ]
  },
  {
   "cell_type": "code",
   "execution_count": 250,
   "metadata": {},
   "outputs": [
    {
     "data": {
      "text/plain": [
       "(170564, 24)"
      ]
     },
     "execution_count": 250,
     "metadata": {},
     "output_type": "execute_result"
    }
   ],
   "source": [
    "### check row length \n",
    "combo_cat3.shape"
   ]
  },
  {
   "cell_type": "code",
   "execution_count": 251,
   "metadata": {},
   "outputs": [],
   "source": [
    "###drop caroline labels\n",
    "combo_cat4 = combo_cat3[~combo_cat3.Rep_Owner.str.contains('Concord', na=False)]"
   ]
  },
  {
   "cell_type": "code",
   "execution_count": 252,
   "metadata": {},
   "outputs": [
    {
     "data": {
      "text/plain": [
       "(165496, 24)"
      ]
     },
     "execution_count": 252,
     "metadata": {},
     "output_type": "execute_result"
    }
   ],
   "source": [
    "### check row length\n",
    "combo_cat4.shape"
   ]
  },
  {
   "cell_type": "code",
   "execution_count": 254,
   "metadata": {},
   "outputs": [
    {
     "data": {
      "text/plain": [
       "(165496, 24)"
      ]
     },
     "execution_count": 254,
     "metadata": {},
     "output_type": "execute_result"
    }
   ],
   "source": [
    "### check row count\n",
    "combo_cat4.shape"
   ]
  },
  {
   "cell_type": "code",
   "execution_count": 255,
   "metadata": {},
   "outputs": [],
   "source": [
    "#importing exception list\n",
    "exception_list = pd.read_excel(\"G:\\Amazon Repatriation May 2020\\exception_list.xlsx\", dtype={'UPC': str})"
   ]
  },
  {
   "cell_type": "code",
   "execution_count": 256,
   "metadata": {},
   "outputs": [
    {
     "data": {
      "text/plain": [
       "(6166, 2)"
      ]
     },
     "execution_count": 256,
     "metadata": {},
     "output_type": "execute_result"
    }
   ],
   "source": [
    "#show exception list\n",
    "\n",
    "exception_list.shape"
   ]
  },
  {
   "cell_type": "code",
   "execution_count": 258,
   "metadata": {},
   "outputs": [],
   "source": [
    "##delete duplicates from exception list\n",
    "\n",
    "exception_list.drop_duplicates(subset =\"UPC\", \n",
    "                     keep = False, inplace = True)"
   ]
  },
  {
   "cell_type": "code",
   "execution_count": 259,
   "metadata": {},
   "outputs": [
    {
     "data": {
      "text/plain": [
       "(5677, 2)"
      ]
     },
     "execution_count": 259,
     "metadata": {},
     "output_type": "execute_result"
    }
   ],
   "source": [
    "##show exception list\n",
    "exception_list.shape"
   ]
  },
  {
   "cell_type": "code",
   "execution_count": 260,
   "metadata": {},
   "outputs": [],
   "source": [
    "##only keep first label\n",
    "exception_list2 = exception_list.drop_duplicates(subset='UPC', keep=\"first\")"
   ]
  },
  {
   "cell_type": "code",
   "execution_count": 261,
   "metadata": {},
   "outputs": [
    {
     "data": {
      "text/plain": [
       "(5677, 2)"
      ]
     },
     "execution_count": 261,
     "metadata": {},
     "output_type": "execute_result"
    }
   ],
   "source": [
    "exception_list2.shape"
   ]
  },
  {
   "cell_type": "code",
   "execution_count": 262,
   "metadata": {},
   "outputs": [],
   "source": [
    "#merging data with exception list to find artist exceptions\n",
    "\n",
    "data_with_exception = pd.merge(combo_cat4,exception_list2[['UPC','Exception']],left_on=\"UPC\", right_on=['UPC'], how='left')"
   ]
  },
  {
   "cell_type": "code",
   "execution_count": 264,
   "metadata": {},
   "outputs": [],
   "source": [
    "##assigning repat percentage, changing Nan to other 50%\n",
    "data_with_exception['Exception'] = data_with_exception['Exception'].fillna(.50)"
   ]
  },
  {
   "cell_type": "code",
   "execution_count": 265,
   "metadata": {},
   "outputs": [],
   "source": [
    "##assigning repat percentage, classical 60%, artist exception 40%, other 50%\n",
    " \n",
    "data_with_exception.loc[data_with_exception['Exception'] == .5, 'repat_%'] = .5\n",
    "data_with_exception.loc[data_with_exception['Exception'] == 'Artist ICLA', 'repat_%'] = .4\n",
    "data_with_exception.loc[data_with_exception['Exception'] == 'Classical', 'repat_%'] = .6"
   ]
  },
  {
   "cell_type": "code",
   "execution_count": 267,
   "metadata": {},
   "outputs": [],
   "source": [
    "##change repat % column to float for equations\n",
    "data_with_exception['repat_%'] = data_with_exception['repat_%'].astype(float)"
   ]
  },
  {
   "cell_type": "code",
   "execution_count": 269,
   "metadata": {},
   "outputs": [],
   "source": [
    "\n",
    "##Repatriation equation bracket net unit price times repat% price brackets minus transfer price\n",
    "\n",
    "data_with_exception['Repatriation'] = (data_with_exception['Net Unit Price'] * data_with_exception['repat_%']) - data_with_exception['Transfer Price']"
   ]
  },
  {
   "cell_type": "code",
   "execution_count": 271,
   "metadata": {},
   "outputs": [],
   "source": [
    "##Repatriation percentage equation  bracket repatiation divded by dealer price bracket times one hundred\n",
    "\n",
    "data_with_exception['Repatriation_Percentage_%'] = (data_with_exception['Repatriation'] / data_with_exception['Dealer Price']) *100"
   ]
  },
  {
   "cell_type": "code",
   "execution_count": 273,
   "metadata": {},
   "outputs": [],
   "source": [
    "##total repatriation percentage equation stock movements times repatriation \n",
    "\n",
    "data_with_exception['Total_Repatriation'] = data_with_exception['unpacked_units'] * data_with_exception['Repatriation']"
   ]
  },
  {
   "cell_type": "code",
   "execution_count": 275,
   "metadata": {},
   "outputs": [
    {
     "data": {
      "text/plain": [
       "(165496, 29)"
      ]
     },
     "execution_count": 275,
     "metadata": {},
     "output_type": "execute_result"
    }
   ],
   "source": [
    "data_with_exception.shape"
   ]
  },
  {
   "cell_type": "code",
   "execution_count": 276,
   "metadata": {},
   "outputs": [],
   "source": [
    "#removing any rows with negative Total_Repatriation total \n",
    "\n",
    "data_with_exception.drop(data_with_exception.index[data_with_exception['Total_Repatriation'] < 0], inplace = True)"
   ]
  },
  {
   "cell_type": "code",
   "execution_count": 277,
   "metadata": {},
   "outputs": [
    {
     "data": {
      "text/plain": [
       "(163990, 29)"
      ]
     },
     "execution_count": 277,
     "metadata": {},
     "output_type": "execute_result"
    }
   ],
   "source": [
    "##show data\n",
    "\n",
    "data_with_exception.shape"
   ]
  },
  {
   "cell_type": "code",
   "execution_count": 278,
   "metadata": {},
   "outputs": [],
   "source": [
    "##remove rows with any NA for Total_Repatriation\n",
    "\n",
    "data_with_exception2 = data_with_exception[data_with_exception['Total_Repatriation'].notna()]"
   ]
  },
  {
   "cell_type": "code",
   "execution_count": 279,
   "metadata": {},
   "outputs": [
    {
     "data": {
      "text/plain": [
       "(163990, 29)"
      ]
     },
     "execution_count": 279,
     "metadata": {},
     "output_type": "execute_result"
    }
   ],
   "source": [
    "data_with_exception2.shape"
   ]
  },
  {
   "cell_type": "code",
   "execution_count": 281,
   "metadata": {},
   "outputs": [
    {
     "data": {
      "text/plain": [
       "(163990, 29)"
      ]
     },
     "execution_count": 281,
     "metadata": {},
     "output_type": "execute_result"
    }
   ],
   "source": [
    "data_with_exception2.shape"
   ]
  },
  {
   "cell_type": "code",
   "execution_count": 282,
   "metadata": {},
   "outputs": [],
   "source": [
    "##remove rows with any NA for inventory owner group\n",
    "\n",
    "data_with_exception3 = data_with_exception2[data_with_exception2['inventory_owner_group_combined'].notna()]"
   ]
  },
  {
   "cell_type": "code",
   "execution_count": 283,
   "metadata": {},
   "outputs": [
    {
     "data": {
      "text/plain": [
       "(163990, 29)"
      ]
     },
     "execution_count": 283,
     "metadata": {},
     "output_type": "execute_result"
    }
   ],
   "source": [
    "data_with_exception3.shape"
   ]
  },
  {
   "cell_type": "code",
   "execution_count": 286,
   "metadata": {},
   "outputs": [
    {
     "data": {
      "text/plain": [
       "(163990, 29)"
      ]
     },
     "execution_count": 286,
     "metadata": {},
     "output_type": "execute_result"
    }
   ],
   "source": [
    "data_with_exception3.shape"
   ]
  },
  {
   "cell_type": "code",
   "execution_count": 287,
   "metadata": {},
   "outputs": [],
   "source": [
    "## rename columns for google big query upload \n",
    "data_with_exception4 = data_with_exception3.rename(columns={'Report Type': 'Report_Type', 'Transfer Price':'Transfer_Price','Dealer Price':'Dealer_Price','Net Unit Price':'Net_Unit_Price','Currency ':'Currency','repat_%':'repat_percentage','Repatriation_Percentage_%':'Repatriation_Percentage_Final'})"
   ]
  },
  {
   "cell_type": "code",
   "execution_count": 288,
   "metadata": {},
   "outputs": [
    {
     "data": {
      "text/plain": [
       "1936"
      ]
     },
     "execution_count": 288,
     "metadata": {},
     "output_type": "execute_result"
    }
   ],
   "source": [
    "###check for duplicates rows\n",
    "sum(data_with_exception4.duplicated())"
   ]
  },
  {
   "cell_type": "code",
   "execution_count": 289,
   "metadata": {},
   "outputs": [],
   "source": [
    "##drop duplicates\n",
    "data_with_exception5 = data_with_exception4.drop_duplicates(ignore_index = True)"
   ]
  },
  {
   "cell_type": "code",
   "execution_count": 290,
   "metadata": {},
   "outputs": [
    {
     "data": {
      "text/plain": [
       "(162054, 29)"
      ]
     },
     "execution_count": 290,
     "metadata": {},
     "output_type": "execute_result"
    }
   ],
   "source": [
    "data_with_exception5.shape"
   ]
  },
  {
   "cell_type": "code",
   "execution_count": 291,
   "metadata": {},
   "outputs": [
    {
     "data": {
      "text/plain": [
       "0"
      ]
     },
     "execution_count": 291,
     "metadata": {},
     "output_type": "execute_result"
    }
   ],
   "source": [
    "###check for duplicates rows\n",
    "sum(data_with_exception5.duplicated())"
   ]
  },
  {
   "cell_type": "code",
   "execution_count": 292,
   "metadata": {},
   "outputs": [],
   "source": [
    "### rename cost data\n",
    "data_with_exception6 = data_with_exception5.rename(columns={'Currency':'Currency_for_calcuations'})"
   ]
  },
  {
   "cell_type": "code",
   "execution_count": 294,
   "metadata": {},
   "outputs": [],
   "source": [
    "### duplicate currency columns\n",
    "data_with_exception6['Final_Currency'] = data_with_exception6['Currency_for_calcuations']"
   ]
  },
  {
   "cell_type": "code",
   "execution_count": 296,
   "metadata": {},
   "outputs": [],
   "source": [
    "data_with_exception6.loc[data_with_exception6['Currency_for_calcuations']=='GBP', ['Total_Repatriation']] *= 1.15"
   ]
  },
  {
   "cell_type": "code",
   "execution_count": 298,
   "metadata": {},
   "outputs": [],
   "source": [
    "data_with_exception6['Final_Currency'] = data_with_exception6['Final_Currency'].str.replace('GBP', 'EUR')"
   ]
  },
  {
   "cell_type": "code",
   "execution_count": 300,
   "metadata": {},
   "outputs": [
    {
     "name": "stderr",
     "output_type": "stream",
     "text": [
      "1it [00:43, 43.53s/it]\n"
     ]
    }
   ],
   "source": [
    "data_with_exception6.to_gbq('commercial_affairs_analytics.amazon_repatriation_june30_5_2020', 'umg-uk')"
   ]
  },
  {
   "cell_type": "code",
   "execution_count": null,
   "metadata": {},
   "outputs": [],
   "source": []
  },
  {
   "cell_type": "code",
   "execution_count": null,
   "metadata": {},
   "outputs": [],
   "source": []
  }
 ],
 "metadata": {
  "kernelspec": {
   "display_name": "Python 3",
   "language": "python",
   "name": "python3"
  },
  "language_info": {
   "codemirror_mode": {
    "name": "ipython",
    "version": 3
   },
   "file_extension": ".py",
   "mimetype": "text/x-python",
   "name": "python",
   "nbconvert_exporter": "python",
   "pygments_lexer": "ipython3",
   "version": "3.7.6"
  }
 },
 "nbformat": 4,
 "nbformat_minor": 4
}
