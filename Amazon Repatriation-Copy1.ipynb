{
 "cells": [
  {
   "cell_type": "code",
   "execution_count": 1,
   "metadata": {},
   "outputs": [],
   "source": [
    "# Amazon Repatriation Automation\n",
    "## Jamie needs to concatenate sales data received from markets into one CSV file\n",
    "#### Concatenate ICLA and Classical Sheet into one CSV\n",
    "##### Jamie needs to send over Cost Feed from Amazon, Concatenated Sales Feed from markets, ICLA exceptions / Classical Sheet and International Catalogue\n",
    "### remove all currency symbols from cost data\n",
    "###### create dashboard from the data"
   ]
  },
  {
   "cell_type": "code",
   "execution_count": 2,
   "metadata": {},
   "outputs": [],
   "source": [
    "#importing libraries\n",
    "\n",
    "import pandas as pd\n",
    "import numpy as np\n",
    "from pandas import Series,DataFrame\n",
    "from google.cloud import bigquery\n"
   ]
  },
  {
   "cell_type": "code",
   "execution_count": 3,
   "metadata": {},
   "outputs": [],
   "source": [
    "#importing sales data\n",
    "\n",
    "sales = pd.read_csv('G:\\Amazon Repatriation May 2020\\Amazon Repat - Amazon Data April.csv', dtype={'ean': str})"
   ]
  },
  {
   "cell_type": "code",
   "execution_count": 4,
   "metadata": {},
   "outputs": [],
   "source": [
    "#importing cost data\n",
    "\n",
    "costs = pd.read_csv('G:\\Amazon Repatriation May 2020\\Amazon Cost Feed Combined - April.csv', dtype={'UPC': np.int64 })"
   ]
  },
  {
   "cell_type": "code",
   "execution_count": 5,
   "metadata": {},
   "outputs": [],
   "source": [
    "### reduce table size \n",
    "costs2 = costs[['Region','UPC','Transfer Price','Dealer Price','Net Unit Price','Currency ']]"
   ]
  },
  {
   "cell_type": "code",
   "execution_count": 6,
   "metadata": {},
   "outputs": [
    {
     "data": {
      "text/plain": [
       "(83531, 6)"
      ]
     },
     "execution_count": 6,
     "metadata": {},
     "output_type": "execute_result"
    }
   ],
   "source": [
    "### amount of rows in cost data\n",
    "costs2.shape"
   ]
  },
  {
   "cell_type": "code",
   "execution_count": 7,
   "metadata": {},
   "outputs": [],
   "source": [
    "#keeping any rows with Transfer Price below .30 euros\n",
    "costs3 = costs2[costs2['Transfer Price'] >= .3] "
   ]
  },
  {
   "cell_type": "code",
   "execution_count": 8,
   "metadata": {},
   "outputs": [
    {
     "data": {
      "text/plain": [
       "(55654, 6)"
      ]
     },
     "execution_count": 8,
     "metadata": {},
     "output_type": "execute_result"
    }
   ],
   "source": [
    "### amount of rows in cost data\n",
    "costs3.shape"
   ]
  },
  {
   "cell_type": "code",
   "execution_count": 9,
   "metadata": {},
   "outputs": [
    {
     "data": {
      "text/plain": [
       "18904"
      ]
     },
     "execution_count": 9,
     "metadata": {},
     "output_type": "execute_result"
    }
   ],
   "source": [
    "###check for duplicates rows\n",
    "sum(costs3.duplicated())"
   ]
  },
  {
   "cell_type": "code",
   "execution_count": 10,
   "metadata": {},
   "outputs": [],
   "source": [
    "##drop duplicates\n",
    "costs4 = costs3.drop_duplicates(ignore_index = True)"
   ]
  },
  {
   "cell_type": "code",
   "execution_count": 11,
   "metadata": {},
   "outputs": [
    {
     "data": {
      "text/plain": [
       "0"
      ]
     },
     "execution_count": 11,
     "metadata": {},
     "output_type": "execute_result"
    }
   ],
   "source": [
    "###check for duplicates rows\n",
    "sum(costs4.duplicated())"
   ]
  },
  {
   "cell_type": "code",
   "execution_count": 12,
   "metadata": {},
   "outputs": [],
   "source": [
    "#concatenating inventrory owner groups, vendor groups for streamlined data\n",
    "\n",
    "sales.loc[sales['inventory_owner_group'] == 'UK', 'inventory_owner_group_combined'] = 'UK'\n",
    "sales.loc[sales['inventory_owner_group'] == 'www.amazon.co.uk', 'inventory_owner_group_combined'] = 'UK'\n",
    "sales.loc[sales['inventory_owner_group'] == 'DE', 'inventory_owner_group_combined'] = 'DE'\n",
    "sales.loc[sales['inventory_owner_group'] == 'www.amazon.de', 'inventory_owner_group_combined'] = 'DE'\n",
    "sales.loc[sales['inventory_owner_group'] == 'IT', 'inventory_owner_group_combined'] = 'IT'\n",
    "sales.loc[sales['inventory_owner_group'] == 'www.amazon.it', 'inventory_owner_group_combined'] = 'IT'\n",
    "sales.loc[sales['inventory_owner_group'] == 'FR', 'inventory_owner_group_combined'] = 'FR'\n",
    "sales.loc[sales['inventory_owner_group'] == 'www.amazon.fr', 'inventory_owner_group_combined'] = 'FR'\n",
    "sales.loc[sales['inventory_owner_group'] == 'ES', 'inventory_owner_group_combined'] = 'ES'\n",
    "sales.loc[sales['inventory_owner_group'] == 'www.amazon.es', 'inventory_owner_group_combined'] = 'ES'\n",
    "sales.loc[sales['inventory_owner_group'] == 'Pan-EU SCO', 'inventory_owner_group_combined'] = 'Pan-EU SCO'\n",
    "sales.loc[sales['vendor_group'] == 'UMG UK', 'vendor_group2'] = 'UK'\n",
    "sales.loc[sales['vendor_group'] == 'UMG DE', 'vendor_group2'] = 'DE'\n",
    "sales.loc[sales['vendor_group'] == 'UMG FR', 'vendor_group2'] = 'FR'\n",
    "sales.loc[sales['vendor_group'] == 'UMG IT', 'vendor_group2']  ='IT'\n",
    "sales.loc[sales['vendor_group'] == 'UMG ES', 'vendor_group2'] ='ES'\n",
    "sales.loc[sales['vendor_group'] == 'UMG AT', 'vendor_group2'] ='AT'\n",
    "sales.loc[sales['vendor_group'] == '3rd Party', 'vendor_group2'] = '3rd Party'"
   ]
  },
  {
   "cell_type": "code",
   "execution_count": 13,
   "metadata": {},
   "outputs": [],
   "source": [
    "#creating movement key\n",
    "\n",
    "sales['movement'] = sales['vendor_group'] + ' to ' +sales['inventory_owner_group_combined'] "
   ]
  },
  {
   "cell_type": "code",
   "execution_count": 14,
   "metadata": {},
   "outputs": [],
   "source": [
    "#splitting up strings of UPC Amazon delivers to us\n",
    "\n",
    "new = sales['ean'].str.split(\"/\", n =-1, expand = True) \n",
    "sales[\"ean1\"]= new[0] \n",
    "sales[\"ean2\"]= new[1] \n",
    "sales[\"ean3\"]= new[2] \n",
    "sales[\"ean4\"]= new[3] \n",
    "sales[\"ean5\"]= new[4] \n",
    "sales.drop(columns =[\"ean\"], inplace = True) \n"
   ]
  },
  {
   "cell_type": "code",
   "execution_count": 20,
   "metadata": {},
   "outputs": [],
   "source": [
    "sales3 = sales.fillna(0)\n"
   ]
  },
  {
   "cell_type": "code",
   "execution_count": 21,
   "metadata": {},
   "outputs": [],
   "source": [
    "##change ean columns to int to match up with costs data\n",
    "\n",
    "sales3['eanone']= sales3['ean1'].astype(float).astype(np.int64)\n",
    "sales3['eantwo']= sales3['ean2'].astype(float).astype(np.int64)\n",
    "sales3['eanthree']= sales3['ean3'].astype(float).astype(np.int64)\n",
    "sales3['eanfour']= sales3['ean4'].astype(float).astype(np.int64)\n",
    "sales3['eanfive']= sales3['ean5'].astype(float).astype(np.int64)\n"
   ]
  },
  {
   "cell_type": "code",
   "execution_count": 22,
   "metadata": {},
   "outputs": [],
   "source": [
    "### drop rows that are redundant \n",
    "del sales3['ean1']\n",
    "del sales3['ean2']\n",
    "del sales3['ean3']\n",
    "del sales3['ean4']\n",
    "del sales3['ean5']"
   ]
  },
  {
   "cell_type": "code",
   "execution_count": 24,
   "metadata": {},
   "outputs": [],
   "source": [
    "### merge data\n",
    "combo = sales3.merge(costs4, how='inner', left_on=[\"eanone\"or\"eantwo\"or\"eanthree\"or\"eanfour\"or\"eanfive\",\"vendor_group2\"], right_on=[\"UPC\",\"Region\"])"
   ]
  },
  {
   "cell_type": "code",
   "execution_count": 26,
   "metadata": {},
   "outputs": [
    {
     "data": {
      "text/plain": [
       "(179979, 23)"
      ]
     },
     "execution_count": 26,
     "metadata": {},
     "output_type": "execute_result"
    }
   ],
   "source": [
    "###amount of rows\n",
    "combo.shape"
   ]
  },
  {
   "cell_type": "code",
   "execution_count": 27,
   "metadata": {},
   "outputs": [],
   "source": [
    "### drop row which didn't match\n",
    "combo4 = combo[combo['UPC'].notna()]"
   ]
  },
  {
   "cell_type": "code",
   "execution_count": 28,
   "metadata": {},
   "outputs": [
    {
     "data": {
      "text/plain": [
       "(179979, 23)"
      ]
     },
     "execution_count": 28,
     "metadata": {},
     "output_type": "execute_result"
    }
   ],
   "source": [
    "### amount of rows\n",
    "combo4.shape"
   ]
  },
  {
   "cell_type": "code",
   "execution_count": 29,
   "metadata": {},
   "outputs": [
    {
     "data": {
      "text/plain": [
       "3893"
      ]
     },
     "execution_count": 29,
     "metadata": {},
     "output_type": "execute_result"
    }
   ],
   "source": [
    "###check for duplicates rows\n",
    "sum(combo4.duplicated())"
   ]
  },
  {
   "cell_type": "code",
   "execution_count": 30,
   "metadata": {},
   "outputs": [],
   "source": [
    "#importing international catalogue data\n",
    "\n",
    "international_catalogue = pd.read_csv(r'G:\\Amazon Repatriation May 2020\\UMGI Physical Catalogue_17042020.csv', dtype={'UPC': float})"
   ]
  },
  {
   "cell_type": "code",
   "execution_count": 32,
   "metadata": {},
   "outputs": [],
   "source": [
    "### drop redundant columns\n",
    "cat2 = international_catalogue[['Rep Owner','UPC']]"
   ]
  },
  {
   "cell_type": "code",
   "execution_count": 34,
   "metadata": {},
   "outputs": [],
   "source": [
    "##drop duplicates\n",
    "cat3 = cat2.drop_duplicates(ignore_index = True)"
   ]
  },
  {
   "cell_type": "code",
   "execution_count": 35,
   "metadata": {},
   "outputs": [
    {
     "data": {
      "text/plain": [
       "0"
      ]
     },
     "execution_count": 35,
     "metadata": {},
     "output_type": "execute_result"
    }
   ],
   "source": [
    "###check for duplicates rows\n",
    "sum(cat3.duplicated())"
   ]
  },
  {
   "cell_type": "code",
   "execution_count": 37,
   "metadata": {},
   "outputs": [],
   "source": [
    "##only keep first label\n",
    "cat4 = cat3.drop_duplicates(subset='UPC', keep=\"first\")"
   ]
  },
  {
   "cell_type": "code",
   "execution_count": 39,
   "metadata": {},
   "outputs": [],
   "source": [
    "### drop row which didn't match\n",
    "cat5 = cat4[cat4['UPC'].notna()]"
   ]
  },
  {
   "cell_type": "code",
   "execution_count": 40,
   "metadata": {},
   "outputs": [],
   "source": [
    "cat6 = cat5['UPC'].astype(float).astype(np.int64)"
   ]
  },
  {
   "cell_type": "code",
   "execution_count": 41,
   "metadata": {},
   "outputs": [],
   "source": [
    "#merging our dataset and international catalogue to return Rep Owner for each UPC\n",
    "\n",
    "combo_cat = pd.merge(combo4,cat4[['UPC','Rep Owner']],\n",
    "                     left_on=\"eanone\"or\"eantwo\"or\"eanthree\"or\"eanfour\"or\"eanfive\", right_on=['UPC'], how='left')"
   ]
  },
  {
   "cell_type": "code",
   "execution_count": 43,
   "metadata": {},
   "outputs": [
    {
     "data": {
      "text/plain": [
       "(179979, 25)"
      ]
     },
     "execution_count": 43,
     "metadata": {},
     "output_type": "execute_result"
    }
   ],
   "source": [
    "### count rows and columsn in combo2\n",
    "combo_cat.shape"
   ]
  },
  {
   "cell_type": "code",
   "execution_count": 44,
   "metadata": {},
   "outputs": [],
   "source": [
    "###drop caroline labels\n",
    "combo_cat2 = combo_cat[combo_cat['Rep Owner'] != 'Caroline/Astralwerks']"
   ]
  },
  {
   "cell_type": "code",
   "execution_count": 45,
   "metadata": {},
   "outputs": [
    {
     "data": {
      "text/plain": [
       "(179956, 25)"
      ]
     },
     "execution_count": 45,
     "metadata": {},
     "output_type": "execute_result"
    }
   ],
   "source": [
    "### check row length \n",
    "combo_cat2.shape"
   ]
  },
  {
   "cell_type": "code",
   "execution_count": 46,
   "metadata": {},
   "outputs": [],
   "source": [
    "###drop concord labels\n",
    "combo_cat3 = combo_cat2[combo_cat2['Rep Owner'] != 'Concord']"
   ]
  },
  {
   "cell_type": "code",
   "execution_count": 47,
   "metadata": {},
   "outputs": [
    {
     "data": {
      "text/plain": [
       "(179282, 25)"
      ]
     },
     "execution_count": 47,
     "metadata": {},
     "output_type": "execute_result"
    }
   ],
   "source": [
    "### check row length\n",
    "combo_cat3.shape"
   ]
  },
  {
   "cell_type": "code",
   "execution_count": 49,
   "metadata": {},
   "outputs": [
    {
     "data": {
      "text/plain": [
       "(179282, 25)"
      ]
     },
     "execution_count": 49,
     "metadata": {},
     "output_type": "execute_result"
    }
   ],
   "source": [
    "### check row count\n",
    "combo_cat3.shape"
   ]
  },
  {
   "cell_type": "code",
   "execution_count": 50,
   "metadata": {},
   "outputs": [],
   "source": [
    "#importing exception list\n",
    "\n",
    "exception_list = pd.read_csv('G:\\Amazon Repatriation May 2020\\exception_list.csv', dtype={'UPC': np.int64})"
   ]
  },
  {
   "cell_type": "code",
   "execution_count": 51,
   "metadata": {},
   "outputs": [
    {
     "data": {
      "text/plain": [
       "(6166, 2)"
      ]
     },
     "execution_count": 51,
     "metadata": {},
     "output_type": "execute_result"
    }
   ],
   "source": [
    "#show exception list\n",
    "\n",
    "exception_list.shape"
   ]
  },
  {
   "cell_type": "code",
   "execution_count": 52,
   "metadata": {},
   "outputs": [],
   "source": [
    "##delete duplicates from exception list\n",
    "\n",
    "exception_list.drop_duplicates(subset =\"UPC\", \n",
    "                     keep = False, inplace = True)"
   ]
  },
  {
   "cell_type": "code",
   "execution_count": 53,
   "metadata": {},
   "outputs": [
    {
     "data": {
      "text/plain": [
       "(5677, 2)"
      ]
     },
     "execution_count": 53,
     "metadata": {},
     "output_type": "execute_result"
    }
   ],
   "source": [
    "##show exception list\n",
    "exception_list.shape"
   ]
  },
  {
   "cell_type": "code",
   "execution_count": 54,
   "metadata": {},
   "outputs": [],
   "source": [
    "##only keep first label\n",
    "exception_list2 = exception_list.drop_duplicates(subset='UPC', keep=\"first\")"
   ]
  },
  {
   "cell_type": "code",
   "execution_count": 55,
   "metadata": {},
   "outputs": [
    {
     "data": {
      "text/plain": [
       "(5677, 2)"
      ]
     },
     "execution_count": 55,
     "metadata": {},
     "output_type": "execute_result"
    }
   ],
   "source": [
    "exception_list2.shape"
   ]
  },
  {
   "cell_type": "code",
   "execution_count": 56,
   "metadata": {},
   "outputs": [],
   "source": [
    "#merging data with exception list to find artist exceptions\n",
    "\n",
    "data_with_exception = pd.merge(combo_cat,exception_list[['UPC','Exception']],left_on=\"eanone\"or\"eantwo\"or\"eanthree\"or\"eanfour\"or\"eanfive\", right_on=['UPC'], how='left')"
   ]
  },
  {
   "cell_type": "code",
   "execution_count": 58,
   "metadata": {},
   "outputs": [],
   "source": [
    "##assigning repat percentage, changing Nan to other 50%\n",
    "data_with_exception['Exception'] = data_with_exception['Exception'].fillna(.50)"
   ]
  },
  {
   "cell_type": "code",
   "execution_count": 59,
   "metadata": {},
   "outputs": [],
   "source": [
    "##assigning repat percentage, classical 60%, artist exception 40%, other 50%\n",
    " \n",
    "data_with_exception.loc[data_with_exception['Exception'] == .5, 'repat_%'] = .5\n",
    "data_with_exception.loc[data_with_exception['Exception'] == 'Artist ICLA', 'repat_%'] = .4\n",
    "data_with_exception.loc[data_with_exception['Exception'] == 'Classical', 'repat_%'] = .6"
   ]
  },
  {
   "cell_type": "code",
   "execution_count": 61,
   "metadata": {},
   "outputs": [],
   "source": [
    "##change repat % column to float for equations\n",
    "data_with_exception['repat_%'] = data_with_exception['repat_%'].astype(float)"
   ]
  },
  {
   "cell_type": "code",
   "execution_count": 62,
   "metadata": {},
   "outputs": [],
   "source": [
    "\n",
    "##Repatriation equation bracket net unit price times repat% price brackets minus transfer price\n",
    "\n",
    "data_with_exception['Repatriation'] = (data_with_exception['Net Unit Price'] * data_with_exception['repat_%']) - data_with_exception['Transfer Price']"
   ]
  },
  {
   "cell_type": "code",
   "execution_count": 64,
   "metadata": {},
   "outputs": [],
   "source": [
    "##Repatriation percentage equation  bracket repatiation divded by dealer price bracket times one hundred\n",
    "\n",
    "data_with_exception['Repatriation_Percentage_%'] = (data_with_exception['Repatriation'] / data_with_exception['Dealer Price']) *100"
   ]
  },
  {
   "cell_type": "code",
   "execution_count": 66,
   "metadata": {},
   "outputs": [],
   "source": [
    "##total repatriation percentage equation stock movements times repatriation \n",
    "\n",
    "data_with_exception['Total_Repatriation'] = data_with_exception['unpacked_units'] * data_with_exception['Repatriation']"
   ]
  },
  {
   "cell_type": "code",
   "execution_count": 68,
   "metadata": {},
   "outputs": [],
   "source": [
    "#removing any rows with negative Total_Repatriation total \n",
    "\n",
    "data_with_exception.drop(data_with_exception.index[data_with_exception['Total_Repatriation'] < 0], inplace = True)"
   ]
  },
  {
   "cell_type": "code",
   "execution_count": 69,
   "metadata": {},
   "outputs": [
    {
     "data": {
      "text/plain": [
       "(178551, 31)"
      ]
     },
     "execution_count": 69,
     "metadata": {},
     "output_type": "execute_result"
    }
   ],
   "source": [
    "##show data\n",
    "\n",
    "data_with_exception.shape"
   ]
  },
  {
   "cell_type": "code",
   "execution_count": 70,
   "metadata": {},
   "outputs": [],
   "source": [
    "##remove rows with any NA for Total_Repatriation\n",
    "\n",
    "data_with_exception = data_with_exception[data_with_exception['Total_Repatriation'].notna()]"
   ]
  },
  {
   "cell_type": "code",
   "execution_count": 71,
   "metadata": {},
   "outputs": [
    {
     "data": {
      "text/plain": [
       "(178551, 31)"
      ]
     },
     "execution_count": 71,
     "metadata": {},
     "output_type": "execute_result"
    }
   ],
   "source": [
    "data_with_exception.shape"
   ]
  },
  {
   "cell_type": "code",
   "execution_count": 73,
   "metadata": {},
   "outputs": [
    {
     "data": {
      "text/plain": [
       "(178551, 31)"
      ]
     },
     "execution_count": 73,
     "metadata": {},
     "output_type": "execute_result"
    }
   ],
   "source": [
    "data_with_exception.shape"
   ]
  },
  {
   "cell_type": "code",
   "execution_count": 74,
   "metadata": {},
   "outputs": [],
   "source": [
    "##remove rows with any NA for inventory owner group\n",
    "\n",
    "data_with_exception = data_with_exception[data_with_exception['inventory_owner_group_combined']!= 0]"
   ]
  },
  {
   "cell_type": "code",
   "execution_count": 75,
   "metadata": {},
   "outputs": [],
   "source": [
    "del data_with_exception['UPC']"
   ]
  },
  {
   "cell_type": "code",
   "execution_count": 78,
   "metadata": {},
   "outputs": [
    {
     "data": {
      "text/plain": [
       "(177842, 30)"
      ]
     },
     "execution_count": 78,
     "metadata": {},
     "output_type": "execute_result"
    }
   ],
   "source": [
    "data_with_exception.shape"
   ]
  },
  {
   "cell_type": "code",
   "execution_count": 79,
   "metadata": {},
   "outputs": [],
   "source": [
    "## rename columns for google big query upload \n",
    "data_with_exception = data_with_exception.rename(columns={'Report Type': 'Report_Type', 'Rep Owner': 'Rep_Owner', 'Transfer Price':'Transfer_Price','Dealer Price':'Dealer_Price','Net Unit Price':'Net_Unit_Price','Currency ':'Currency','repat_%':'repat_percentage','Repatriation_Percentage_%':'Repatriation_Percentage_Final'})"
   ]
  },
  {
   "cell_type": "code",
   "execution_count": 80,
   "metadata": {},
   "outputs": [
    {
     "data": {
      "text/plain": [
       "3850"
      ]
     },
     "execution_count": 80,
     "metadata": {},
     "output_type": "execute_result"
    }
   ],
   "source": [
    "###check for duplicates rows\n",
    "sum(data_with_exception.duplicated())"
   ]
  },
  {
   "cell_type": "code",
   "execution_count": 85,
   "metadata": {},
   "outputs": [
    {
     "name": "stderr",
     "output_type": "stream",
     "text": [
      "1it [00:43, 43.94s/it]\n"
     ]
    }
   ],
   "source": [
    "data_with_exception.to_gbq('commercial_affairs_analytics.amazon_repatriation_sat_test7_2020', 'umg-uk')"
   ]
  },
  {
   "cell_type": "code",
   "execution_count": null,
   "metadata": {},
   "outputs": [],
   "source": []
  },
  {
   "cell_type": "code",
   "execution_count": null,
   "metadata": {},
   "outputs": [],
   "source": []
  }
 ],
 "metadata": {
  "kernelspec": {
   "display_name": "Python 3",
   "language": "python",
   "name": "python3"
  },
  "language_info": {
   "codemirror_mode": {
    "name": "ipython",
    "version": 3
   },
   "file_extension": ".py",
   "mimetype": "text/x-python",
   "name": "python",
   "nbconvert_exporter": "python",
   "pygments_lexer": "ipython3",
   "version": "3.7.6"
  }
 },
 "nbformat": 4,
 "nbformat_minor": 4
}
